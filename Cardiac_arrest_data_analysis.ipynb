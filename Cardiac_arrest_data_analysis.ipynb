{
 "cells": [
  {
   "cell_type": "markdown",
   "id": "43b8c91e",
   "metadata": {},
   "source": [
    "# Import Required Packages"
   ]
  },
  {
   "cell_type": "code",
   "execution_count": 1,
   "id": "5eee9b3f",
   "metadata": {},
   "outputs": [],
   "source": [
    "import numpy as np\n",
    "import pandas as pd\n",
    "import matplotlib.pyplot as plt\n",
    "import seaborn as sns\n",
    "from sklearn.cluster import KMeans,AgglomerativeClustering\n",
    "import warnings\n",
    "warnings.filterwarnings('ignore')\n",
    "sns.set()"
   ]
  },
  {
   "cell_type": "markdown",
   "id": "d0247b07",
   "metadata": {},
   "source": [
    "# Load Dataset"
   ]
  },
  {
   "cell_type": "code",
   "execution_count": 2,
   "id": "11009d7d",
   "metadata": {},
   "outputs": [],
   "source": [
    "df=pd.read_csv('cardiac_arrest_data.csv')"
   ]
  },
  {
   "cell_type": "code",
   "execution_count": 3,
   "id": "06af1c9d",
   "metadata": {},
   "outputs": [
    {
     "data": {
      "text/html": [
       "<div>\n",
       "<style scoped>\n",
       "    .dataframe tbody tr th:only-of-type {\n",
       "        vertical-align: middle;\n",
       "    }\n",
       "\n",
       "    .dataframe tbody tr th {\n",
       "        vertical-align: top;\n",
       "    }\n",
       "\n",
       "    .dataframe thead th {\n",
       "        text-align: right;\n",
       "    }\n",
       "</style>\n",
       "<table border=\"1\" class=\"dataframe\">\n",
       "  <thead>\n",
       "    <tr style=\"text-align: right;\">\n",
       "      <th></th>\n",
       "      <th>Gender</th>\n",
       "      <th>Chain_smoker</th>\n",
       "      <th>Consumes_other_tobacco_products</th>\n",
       "      <th>HighBP</th>\n",
       "      <th>Obese</th>\n",
       "      <th>Diabetes</th>\n",
       "      <th>Metabolic_syndrome</th>\n",
       "      <th>Use_of_stimulant_drugs</th>\n",
       "      <th>Family_history</th>\n",
       "      <th>History_of_preeclampsia</th>\n",
       "      <th>CABG_history</th>\n",
       "      <th>Respiratory_illness</th>\n",
       "      <th>UnderRisk</th>\n",
       "    </tr>\n",
       "  </thead>\n",
       "  <tbody>\n",
       "    <tr>\n",
       "      <th>0</th>\n",
       "      <td>1</td>\n",
       "      <td>1</td>\n",
       "      <td>1</td>\n",
       "      <td>0</td>\n",
       "      <td>1</td>\n",
       "      <td>0</td>\n",
       "      <td>0</td>\n",
       "      <td>0</td>\n",
       "      <td>1</td>\n",
       "      <td>0</td>\n",
       "      <td>0</td>\n",
       "      <td>0</td>\n",
       "      <td>no</td>\n",
       "    </tr>\n",
       "    <tr>\n",
       "      <th>1</th>\n",
       "      <td>1</td>\n",
       "      <td>0</td>\n",
       "      <td>1</td>\n",
       "      <td>0</td>\n",
       "      <td>1</td>\n",
       "      <td>0</td>\n",
       "      <td>0</td>\n",
       "      <td>0</td>\n",
       "      <td>1</td>\n",
       "      <td>0</td>\n",
       "      <td>0</td>\n",
       "      <td>0</td>\n",
       "      <td>no</td>\n",
       "    </tr>\n",
       "    <tr>\n",
       "      <th>2</th>\n",
       "      <td>1</td>\n",
       "      <td>0</td>\n",
       "      <td>1</td>\n",
       "      <td>0</td>\n",
       "      <td>1</td>\n",
       "      <td>0</td>\n",
       "      <td>0</td>\n",
       "      <td>0</td>\n",
       "      <td>1</td>\n",
       "      <td>0</td>\n",
       "      <td>0</td>\n",
       "      <td>0</td>\n",
       "      <td>no</td>\n",
       "    </tr>\n",
       "    <tr>\n",
       "      <th>3</th>\n",
       "      <td>1</td>\n",
       "      <td>0</td>\n",
       "      <td>1</td>\n",
       "      <td>0</td>\n",
       "      <td>1</td>\n",
       "      <td>0</td>\n",
       "      <td>0</td>\n",
       "      <td>0</td>\n",
       "      <td>1</td>\n",
       "      <td>0</td>\n",
       "      <td>0</td>\n",
       "      <td>0</td>\n",
       "      <td>no</td>\n",
       "    </tr>\n",
       "    <tr>\n",
       "      <th>4</th>\n",
       "      <td>1</td>\n",
       "      <td>0</td>\n",
       "      <td>0</td>\n",
       "      <td>0</td>\n",
       "      <td>0</td>\n",
       "      <td>0</td>\n",
       "      <td>1</td>\n",
       "      <td>1</td>\n",
       "      <td>0</td>\n",
       "      <td>0</td>\n",
       "      <td>0</td>\n",
       "      <td>0</td>\n",
       "      <td>no</td>\n",
       "    </tr>\n",
       "  </tbody>\n",
       "</table>\n",
       "</div>"
      ],
      "text/plain": [
       "   Gender  Chain_smoker  Consumes_other_tobacco_products  HighBP  Obese  \\\n",
       "0       1             1                                1       0      1   \n",
       "1       1             0                                1       0      1   \n",
       "2       1             0                                1       0      1   \n",
       "3       1             0                                1       0      1   \n",
       "4       1             0                                0       0      0   \n",
       "\n",
       "   Diabetes  Metabolic_syndrome  Use_of_stimulant_drugs  Family_history  \\\n",
       "0         0                   0                       0               1   \n",
       "1         0                   0                       0               1   \n",
       "2         0                   0                       0               1   \n",
       "3         0                   0                       0               1   \n",
       "4         0                   1                       1               0   \n",
       "\n",
       "   History_of_preeclampsia  CABG_history  Respiratory_illness UnderRisk  \n",
       "0                        0             0                    0        no  \n",
       "1                        0             0                    0        no  \n",
       "2                        0             0                    0        no  \n",
       "3                        0             0                    0        no  \n",
       "4                        0             0                    0        no  "
      ]
     },
     "execution_count": 3,
     "metadata": {},
     "output_type": "execute_result"
    }
   ],
   "source": [
    "df.head()"
   ]
  },
  {
   "cell_type": "code",
   "execution_count": 4,
   "id": "95112bb1",
   "metadata": {
    "scrolled": true
   },
   "outputs": [
    {
     "data": {
      "text/plain": [
       "(889, 13)"
      ]
     },
     "execution_count": 4,
     "metadata": {},
     "output_type": "execute_result"
    }
   ],
   "source": [
    "df.shape"
   ]
  },
  {
   "cell_type": "code",
   "execution_count": 5,
   "id": "1fc63ede",
   "metadata": {},
   "outputs": [
    {
     "data": {
      "text/plain": [
       "<AxesSubplot:>"
      ]
     },
     "execution_count": 5,
     "metadata": {},
     "output_type": "execute_result"
    },
    {
     "data": {
      "image/png": "[encoded data removed]",
      "text/plain": [
       "<Figure size 432x288 with 1 Axes>"
      ]
     },
     "metadata": {},
     "output_type": "display_data"
    }
   ],
   "source": [
    "df['Gender'].value_counts().plot(kind='bar')"
   ]
  },
  {
   "cell_type": "code",
   "execution_count": 6,
   "id": "946a53a3",
   "metadata": {},
   "outputs": [
    {
     "data": {
      "text/plain": [
       "<AxesSubplot:>"
      ]
     },
     "execution_count": 6,
     "metadata": {},
     "output_type": "execute_result"
    },
    {
     "data": {
      "image/png": "[encoded data removed]",
      "text/plain": [
       "<Figure size 432x288 with 1 Axes>"
      ]
     },
     "metadata": {},
     "output_type": "display_data"
    }
   ],
   "source": [
    "df['Respiratory_illness'].value_counts().plot(kind='bar')"
   ]
  },
  {
   "cell_type": "code",
   "execution_count": 7,
   "id": "25d68244",
   "metadata": {},
   "outputs": [
    {
     "data": {
      "text/plain": [
       "<AxesSubplot:>"
      ]
     },
     "execution_count": 7,
     "metadata": {},
     "output_type": "execute_result"
    },
    {
     "data": {
      "image/png": "[encoded data removed]",
      "text/plain": [
       "<Figure size 432x288 with 1 Axes>"
      ]
     },
     "metadata": {},
     "output_type": "display_data"
    }
   ],
   "source": [
    "df['Chain_smoker'].value_counts().plot(kind='bar')"
   ]
  },
  {
   "cell_type": "code",
   "execution_count": 8,
   "id": "4dba00ed",
   "metadata": {},
   "outputs": [
    {
     "data": {
      "text/plain": [
       "<AxesSubplot:>"
      ]
     },
     "execution_count": 8,
     "metadata": {},
     "output_type": "execute_result"
    },
    {
     "data": {
      "image/png": "[encoded data removed]",
      "text/plain": [
       "<Figure size 432x288 with 1 Axes>"
      ]
     },
     "metadata": {},
     "output_type": "display_data"
    }
   ],
   "source": [
    "df['HighBP'].value_counts().plot(kind='bar')"
   ]
  },
  {
   "cell_type": "code",
   "execution_count": null,
   "id": "0048ad05",
   "metadata": {},
   "outputs": [],
   "source": []
  },
  {
   "cell_type": "markdown",
   "id": "96959702",
   "metadata": {},
   "source": [
    "# Basic info of dataset"
   ]
  },
  {
   "cell_type": "code",
   "execution_count": 9,
   "id": "4f39ccb9",
   "metadata": {
    "scrolled": true
   },
   "outputs": [
    {
     "name": "stdout",
     "output_type": "stream",
     "text": [
      "<class 'pandas.core.frame.DataFrame'>\n",
      "RangeIndex: 889 entries, 0 to 888\n",
      "Data columns (total 13 columns):\n",
      " #   Column                           Non-Null Count  Dtype \n",
      "---  ------                           --------------  ----- \n",
      " 0   Gender                           889 non-null    int64 \n",
      " 1   Chain_smoker                     889 non-null    int64 \n",
      " 2   Consumes_other_tobacco_products  889 non-null    int64 \n",
      " 3   HighBP                           889 non-null    int64 \n",
      " 4   Obese                            889 non-null    int64 \n",
      " 5   Diabetes                         889 non-null    int64 \n",
      " 6   Metabolic_syndrome               889 non-null    int64 \n",
      " 7   Use_of_stimulant_drugs           889 non-null    int64 \n",
      " 8   Family_history                   889 non-null    int64 \n",
      " 9   History_of_preeclampsia          889 non-null    int64 \n",
      " 10  CABG_history                     889 non-null    int64 \n",
      " 11  Respiratory_illness              889 non-null    int64 \n",
      " 12  UnderRisk                        889 non-null    object\n",
      "dtypes: int64(12), object(1)\n",
      "memory usage: 90.4+ KB\n"
     ]
    }
   ],
   "source": [
    "df.info()"
   ]
  },
  {
   "cell_type": "markdown",
   "id": "74efc457",
   "metadata": {},
   "source": [
    "# Basic Statistics"
   ]
  },
  {
   "cell_type": "code",
   "execution_count": 10,
   "id": "15cffc9b",
   "metadata": {},
   "outputs": [
    {
     "data": {
      "text/html": [
       "<div>\n",
       "<style scoped>\n",
       "    .dataframe tbody tr th:only-of-type {\n",
       "        vertical-align: middle;\n",
       "    }\n",
       "\n",
       "    .dataframe tbody tr th {\n",
       "        vertical-align: top;\n",
       "    }\n",
       "\n",
       "    .dataframe thead th {\n",
       "        text-align: right;\n",
       "    }\n",
       "</style>\n",
       "<table border=\"1\" class=\"dataframe\">\n",
       "  <thead>\n",
       "    <tr style=\"text-align: right;\">\n",
       "      <th></th>\n",
       "      <th>Gender</th>\n",
       "      <th>Chain_smoker</th>\n",
       "      <th>Consumes_other_tobacco_products</th>\n",
       "      <th>HighBP</th>\n",
       "      <th>Obese</th>\n",
       "      <th>Diabetes</th>\n",
       "      <th>Metabolic_syndrome</th>\n",
       "      <th>Use_of_stimulant_drugs</th>\n",
       "      <th>Family_history</th>\n",
       "      <th>History_of_preeclampsia</th>\n",
       "      <th>CABG_history</th>\n",
       "      <th>Respiratory_illness</th>\n",
       "    </tr>\n",
       "  </thead>\n",
       "  <tbody>\n",
       "    <tr>\n",
       "      <th>count</th>\n",
       "      <td>889.000000</td>\n",
       "      <td>889.000000</td>\n",
       "      <td>889.00000</td>\n",
       "      <td>889.000000</td>\n",
       "      <td>889.000000</td>\n",
       "      <td>889.000000</td>\n",
       "      <td>889.000000</td>\n",
       "      <td>889.000000</td>\n",
       "      <td>889.000000</td>\n",
       "      <td>889.000000</td>\n",
       "      <td>889.000000</td>\n",
       "      <td>889.000000</td>\n",
       "    </tr>\n",
       "    <tr>\n",
       "      <th>mean</th>\n",
       "      <td>1.258718</td>\n",
       "      <td>0.120360</td>\n",
       "      <td>0.83802</td>\n",
       "      <td>0.086614</td>\n",
       "      <td>0.919010</td>\n",
       "      <td>0.055118</td>\n",
       "      <td>0.042745</td>\n",
       "      <td>0.082115</td>\n",
       "      <td>0.925759</td>\n",
       "      <td>0.017998</td>\n",
       "      <td>0.021372</td>\n",
       "      <td>0.032621</td>\n",
       "    </tr>\n",
       "    <tr>\n",
       "      <th>std</th>\n",
       "      <td>0.500557</td>\n",
       "      <td>0.325565</td>\n",
       "      <td>0.36864</td>\n",
       "      <td>0.281427</td>\n",
       "      <td>0.272973</td>\n",
       "      <td>0.228339</td>\n",
       "      <td>0.202395</td>\n",
       "      <td>0.274694</td>\n",
       "      <td>0.262310</td>\n",
       "      <td>0.133018</td>\n",
       "      <td>0.144704</td>\n",
       "      <td>0.177742</td>\n",
       "    </tr>\n",
       "    <tr>\n",
       "      <th>min</th>\n",
       "      <td>0.000000</td>\n",
       "      <td>0.000000</td>\n",
       "      <td>0.00000</td>\n",
       "      <td>0.000000</td>\n",
       "      <td>0.000000</td>\n",
       "      <td>0.000000</td>\n",
       "      <td>0.000000</td>\n",
       "      <td>0.000000</td>\n",
       "      <td>0.000000</td>\n",
       "      <td>0.000000</td>\n",
       "      <td>0.000000</td>\n",
       "      <td>0.000000</td>\n",
       "    </tr>\n",
       "    <tr>\n",
       "      <th>25%</th>\n",
       "      <td>1.000000</td>\n",
       "      <td>0.000000</td>\n",
       "      <td>1.00000</td>\n",
       "      <td>0.000000</td>\n",
       "      <td>1.000000</td>\n",
       "      <td>0.000000</td>\n",
       "      <td>0.000000</td>\n",
       "      <td>0.000000</td>\n",
       "      <td>1.000000</td>\n",
       "      <td>0.000000</td>\n",
       "      <td>0.000000</td>\n",
       "      <td>0.000000</td>\n",
       "    </tr>\n",
       "    <tr>\n",
       "      <th>50%</th>\n",
       "      <td>1.000000</td>\n",
       "      <td>0.000000</td>\n",
       "      <td>1.00000</td>\n",
       "      <td>0.000000</td>\n",
       "      <td>1.000000</td>\n",
       "      <td>0.000000</td>\n",
       "      <td>0.000000</td>\n",
       "      <td>0.000000</td>\n",
       "      <td>1.000000</td>\n",
       "      <td>0.000000</td>\n",
       "      <td>0.000000</td>\n",
       "      <td>0.000000</td>\n",
       "    </tr>\n",
       "    <tr>\n",
       "      <th>75%</th>\n",
       "      <td>2.000000</td>\n",
       "      <td>0.000000</td>\n",
       "      <td>1.00000</td>\n",
       "      <td>0.000000</td>\n",
       "      <td>1.000000</td>\n",
       "      <td>0.000000</td>\n",
       "      <td>0.000000</td>\n",
       "      <td>0.000000</td>\n",
       "      <td>1.000000</td>\n",
       "      <td>0.000000</td>\n",
       "      <td>0.000000</td>\n",
       "      <td>0.000000</td>\n",
       "    </tr>\n",
       "    <tr>\n",
       "      <th>max</th>\n",
       "      <td>2.000000</td>\n",
       "      <td>1.000000</td>\n",
       "      <td>1.00000</td>\n",
       "      <td>1.000000</td>\n",
       "      <td>1.000000</td>\n",
       "      <td>1.000000</td>\n",
       "      <td>1.000000</td>\n",
       "      <td>1.000000</td>\n",
       "      <td>1.000000</td>\n",
       "      <td>1.000000</td>\n",
       "      <td>1.000000</td>\n",
       "      <td>1.000000</td>\n",
       "    </tr>\n",
       "  </tbody>\n",
       "</table>\n",
       "</div>"
      ],
      "text/plain": [
       "           Gender  Chain_smoker  Consumes_other_tobacco_products      HighBP  \\\n",
       "count  889.000000    889.000000                        889.00000  889.000000   \n",
       "mean     1.258718      0.120360                          0.83802    0.086614   \n",
       "std      0.500557      0.325565                          0.36864    0.281427   \n",
       "min      0.000000      0.000000                          0.00000    0.000000   \n",
       "25%      1.000000      0.000000                          1.00000    0.000000   \n",
       "50%      1.000000      0.000000                          1.00000    0.000000   \n",
       "75%      2.000000      0.000000                          1.00000    0.000000   \n",
       "max      2.000000      1.000000                          1.00000    1.000000   \n",
       "\n",
       "            Obese    Diabetes  Metabolic_syndrome  Use_of_stimulant_drugs  \\\n",
       "count  889.000000  889.000000          889.000000              889.000000   \n",
       "mean     0.919010    0.055118            0.042745                0.082115   \n",
       "std      0.272973    0.228339            0.202395                0.274694   \n",
       "min      0.000000    0.000000            0.000000                0.000000   \n",
       "25%      1.000000    0.000000            0.000000                0.000000   \n",
       "50%      1.000000    0.000000            0.000000                0.000000   \n",
       "75%      1.000000    0.000000            0.000000                0.000000   \n",
       "max      1.000000    1.000000            1.000000                1.000000   \n",
       "\n",
       "       Family_history  History_of_preeclampsia  CABG_history  \\\n",
       "count      889.000000               889.000000    889.000000   \n",
       "mean         0.925759                 0.017998      0.021372   \n",
       "std          0.262310                 0.133018      0.144704   \n",
       "min          0.000000                 0.000000      0.000000   \n",
       "25%          1.000000                 0.000000      0.000000   \n",
       "50%          1.000000                 0.000000      0.000000   \n",
       "75%          1.000000                 0.000000      0.000000   \n",
       "max          1.000000                 1.000000      1.000000   \n",
       "\n",
       "       Respiratory_illness  \n",
       "count           889.000000  \n",
       "mean              0.032621  \n",
       "std               0.177742  \n",
       "min               0.000000  \n",
       "25%               0.000000  \n",
       "50%               0.000000  \n",
       "75%               0.000000  \n",
       "max               1.000000  "
      ]
     },
     "execution_count": 10,
     "metadata": {},
     "output_type": "execute_result"
    }
   ],
   "source": [
    "df.describe()"
   ]
  },
  {
   "cell_type": "code",
   "execution_count": 11,
   "id": "7e369ec3",
   "metadata": {},
   "outputs": [
    {
     "data": {
      "text/plain": [
       "(889, 13)"
      ]
     },
     "execution_count": 11,
     "metadata": {},
     "output_type": "execute_result"
    }
   ],
   "source": [
    "df.shape"
   ]
  },
  {
   "cell_type": "markdown",
   "id": "1b89f2bc",
   "metadata": {},
   "source": [
    "# Drop UnderRisk column"
   ]
  },
  {
   "cell_type": "code",
   "execution_count": 12,
   "id": "262422d5",
   "metadata": {},
   "outputs": [],
   "source": [
    "df.drop('UnderRisk',axis=1,inplace=True)"
   ]
  },
  {
   "cell_type": "markdown",
   "id": "7d90a73d",
   "metadata": {},
   "source": [
    "# Select K value for label"
   ]
  },
  {
   "cell_type": "code",
   "execution_count": 13,
   "id": "d8d7c52e",
   "metadata": {},
   "outputs": [
    {
     "data": {
      "text/plain": [
       "Text(0.5, 1.0, 'Elbow method for k')"
      ]
     },
     "execution_count": 13,
     "metadata": {},
     "output_type": "execute_result"
    },
    {
     "data": {
      "image/png": "[encoded data removed]",
      "text/plain": [
       "<Figure size 720x360 with 1 Axes>"
      ]
     },
     "metadata": {},
     "output_type": "display_data"
    }
   ],
   "source": [
    "points=[]\n",
    "n=range(1,10)\n",
    "for i in n:\n",
    "    kmeans=KMeans(n_clusters=i).fit(df)\n",
    "    points.append(kmeans.inertia_)\n",
    "plt.figure(figsize=(10,5))\n",
    "plt.plot(n,points,'yo-')\n",
    "plt.xlabel('number_of_clusters')\n",
    "plt.ylabel('inertia')\n",
    "plt.title('Elbow method for k')"
   ]
  },
  {
   "cell_type": "markdown",
   "id": "c7244deb",
   "metadata": {},
   "source": [
    "# Fit algorithms"
   ]
  },
  {
   "cell_type": "code",
   "execution_count": 14,
   "id": "4e43cb17",
   "metadata": {},
   "outputs": [],
   "source": [
    "\n",
    "y_pred=KMeans(n_clusters=6, max_iter=800).fit_predict(df)\n"
   ]
  },
  {
   "cell_type": "markdown",
   "id": "32b90611",
   "metadata": {},
   "source": [
    "# Model Evaluation"
   ]
  },
  {
   "cell_type": "code",
   "execution_count": 15,
   "id": "a3b8a9d3",
   "metadata": {},
   "outputs": [
    {
     "data": {
      "text/plain": [
       "0.5778333923708188"
      ]
     },
     "execution_count": 15,
     "metadata": {},
     "output_type": "execute_result"
    }
   ],
   "source": [
    "from sklearn.metrics import silhouette_score\n",
    "silhouette_score(df,y_pred)"
   ]
  },
  {
   "cell_type": "markdown",
   "id": "09faecc1",
   "metadata": {},
   "source": [
    "# Plot Dendogram"
   ]
  },
  {
   "cell_type": "code",
   "execution_count": 16,
   "id": "82d55dc8",
   "metadata": {},
   "outputs": [
    {
     "data": {
      "image/png": "[encoded data removed]",
      "text/plain": [
       "<Figure size 1080x720 with 1 Axes>"
      ]
     },
     "metadata": {},
     "output_type": "display_data"
    }
   ],
   "source": [
    "from scipy.cluster.hierarchy import linkage,dendrogram\n",
    "merg = linkage(df, method = \"ward\")\n",
    "plt.figure(figsize=(15,10))\n",
    "dendrogram(merg)\n",
    "plt.xlabel(\"data points\")\n",
    "plt.ylabel(\"euclidean distance\")\n",
    "plt.xticks(rotation=90) \n",
    "plt.show()"
   ]
  },
  {
   "cell_type": "markdown",
   "id": "19d7ee02",
   "metadata": {},
   "source": [
    "# Apply hierarchy clustering algorithm"
   ]
  },
  {
   "cell_type": "code",
   "execution_count": 17,
   "id": "7301a64e",
   "metadata": {},
   "outputs": [],
   "source": [
    "agg=AgglomerativeClustering(6)\n",
    "y_pred=agg.fit_predict(df)"
   ]
  },
  {
   "cell_type": "markdown",
   "id": "9e3cb6da",
   "metadata": {},
   "source": [
    "# MOdel Evaluation"
   ]
  },
  {
   "cell_type": "code",
   "execution_count": 18,
   "id": "601fbbc8",
   "metadata": {},
   "outputs": [
    {
     "data": {
      "text/plain": [
       "0.558543462323678"
      ]
     },
     "execution_count": 18,
     "metadata": {},
     "output_type": "execute_result"
    }
   ],
   "source": [
    "from sklearn.metrics import silhouette_score\n",
    "silhouette_score(df,y_pred)"
   ]
  },
  {
   "cell_type": "code",
   "execution_count": null,
   "id": "ef2749cd",
   "metadata": {},
   "outputs": [],
   "source": []
  }
 ],
 "metadata": {
  "kernelspec": {
   "display_name": "Python 3",
   "language": "python",
   "name": "python3"
  },
  "language_info": {
   "codemirror_mode": {
    "name": "ipython",
    "version": 3
   },
   "file_extension": ".py",
   "mimetype": "text/x-python",
   "name": "python",
   "nbconvert_exporter": "python",
   "pygments_lexer": "ipython3",
   "version": "3.7.10"
  }
 },
 "nbformat": 4,
 "nbformat_minor": 5
}
