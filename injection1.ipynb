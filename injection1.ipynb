
import psycopg2
from datetime import date,timedelta
from dateutil.relativedelta import relativedelta
import logging
import sys


month1 = (date.today()-timedelta(days=1)).strftime('%m')
year1 = (date.today()-timedelta(days=1)).strftime('%Y')

try:
    HOST = 'mkart-cluster-1.cpistwmygeu3.ap-south-1.redshift.amazonaws.com'
    DB_NAME = 'mkartsales'
    USER = 'mkartdbadmin'
    PASSWORD = 'qwIrzFPefCA9KMsE'
    PORT = 5439

    import datetime
    def last_day_of_month(any_day):
        next_month = any_day.replace(day=28) + datetime.timedelta(days=4)
        return next_month - datetime.timedelta(days=next_month.day)



    conn = psycopg2.connect(
            host=HOST,
            database=DB_NAME,
            user=USER,
            password=PASSWORD,
            port=PORT)

    cursor = conn.cursor()

except Exception as e:
    logging.warning("--------------------------------------------------")
    logging.error("Oops! An exception has occured:" +  str(e))
    logging.error("Exception TYPE:" + str(type(e)))
    logging.warning("--------------------------------------------------")


########## SalesDetails###########

try:
    query1  = f"delete  from sales_details where billdate>'{(last_day_of_month(date.today()-timedelta(days=1)+relativedelta(months=-1))).strftime('%Y-%m-%d')}'"
    insert_query1 = f''' copy sales_details from 's3://redshift-mkart-s3/powerbi/reporting/sales/{year1}/{month1}/salesdetail'
    credentials 'aws_iam_role=arn:aws:iam::583075802774:role/service-role/AmazonRedshift-CommandsAccessRole-20220525T165306'
    IGNOREHEADER 1 
    csv;
    '''

    cursor.execute(query1)
    cursor.execute(insert_query1)
    conn.commit()

except Exception as e:
    logging.error("Oops! An exception has occured:" +  str(e))


######################repeatcustomer##################
try:
    query2  = f"delete  from repeatcustomer where billdate>'{(last_day_of_month(date.today()-timedelta(days=1)+relativedelta(months=-1))).strftime('%Y-%m-%d')}'"
    insert_query2 = f''' copy repeatcustomer from 's3://redshift-mkart-s3/powerbi/reporting/sales/{year1}/{month1}/repeatcustomer'
    credentials 'aws_iam_role=arn:aws:iam::583075802774:role/service-role/AmazonRedshift-CommandsAccessRole-20220525T165306'
    IGNOREHEADER 1 
    csv;
    '''
    cursor.execute(query2)
    cursor.execute(insert_query2)
    conn.commit()

except Exception as e:
    logging.error("Oops! An exception has occured:" +  str(e))

############# User Sales ######################

try:
    query3  = f"delete  from user_sales where billdate>'{(last_day_of_month(date.today()-timedelta(days=1)+relativedelta(months=-1))).strftime('%Y-%m-%d')}'"
    insert_query3 = f''' copy user_sales from 's3://redshift-mkart-s3/powerbi/reporting/sales/{year1}/{month1}/usersales'
    credentials 'aws_iam_role=arn:aws:iam::583075802774:role/service-role/AmazonRedshift-CommandsAccessRole-20220525T165306'
    IGNOREHEADER 1 
    csv;
    '''

    cursor.execute(query3)
    cursor.execute(insert_query3)
    conn.commit()

except Exception as e:
    logging.error("Oops! An exception has occured:" +  str(e))


############### Returns ##############################

try:
    query4  = f"delete  from \"returns\" where billdate>'{(last_day_of_month(date.today()-timedelta(days=1)+relativedelta(months=-1))).strftime('%Y-%m-%d')}'"
    insert_query4 = f''' copy \"returns\" from 's3://redshift-mkart-s3/powerbi/reporting/sales/{year1}/{month1}/returns'
    credentials 'aws_iam_role=arn:aws:iam::583075802774:role/service-role/AmazonRedshift-CommandsAccessRole-20220525T165306'
    IGNOREHEADER 1 
    csv;
    '''
    cursor.execute(query4)
    cursor.execute(insert_query4)
    conn.commit()

except Exception as e:
    logging.error("Oops! An exception has occured:" +  str(e))

############# Offer OTC #########################

try:
    query5  = f"delete  from offer_otc_sale where billdate>'{(last_day_of_month(date.today()-timedelta(days=1)+relativedelta(months=-1))).strftime('%Y-%m-%d')}'"
    insert_query5 = f''' copy offer_otc_sale from 's3://redshift-mkart-s3/powerbi/reporting/sales/{year1}/{month1}/offerotc'
    credentials 'aws_iam_role=arn:aws:iam::583075802774:role/service-role/AmazonRedshift-CommandsAccessRole-20220525T165306'
    IGNOREHEADER 1 
    csv;
    '''
    cursor.execute(query5)
    cursor.execute(insert_query5)
    conn.commit()

except Exception as e:
    logging.error("Oops! An exception has occured:" +  str(e))

################## Hourly Data #########################

try:
    query6  = f"delete  from hourly_data where billdate>'{(last_day_of_month(date.today()-timedelta(days=1)+relativedelta(months=-1))).strftime('%Y-%m-%d')}'"
    insert_query6 = f''' copy hourly_data from 's3://redshift-mkart-s3/powerbi/reporting/sales/{year1}/{month1}/hourlydata'
    credentials 'aws_iam_role=arn:aws:iam::583075802774:role/service-role/AmazonRedshift-CommandsAccessRole-20220525T165306'
    IGNOREHEADER 1 
    csv;
    '''
    cursor.execute(query6)
    cursor.execute(insert_query6)
    conn.commit()

except Exception as e:
    logging.error("Oops! An exception has occured:" +  str(e))
#################### Repeat_L3M ####################

try:
    query7  = f"delete  from repeat_l3m where \"month\" = '{(date.today()-timedelta(days=1)).strftime('%Y-%m')}-01'"
    insert_query7 = f''' copy repeat_l3m from 's3://redshift-mkart-s3/powerbi/reporting/sales/{year1}/{month1}/repeat_L3M'
    credentials 'aws_iam_role=arn:aws:iam::583075802774:role/service-role/AmazonRedshift-CommandsAccessRole-20220525T165306'
    IGNOREHEADER 1 
    csv;
    '''
    cursor.execute(query7)
    cursor.execute(insert_query7)
    conn.commit()
except Exception as e:
    logging.error("Oops! An exception has occured:" +  str(e))
################ Repeat Acute Chronic ####################


try:
    query8  = f"delete  from repeat_acutechronic where \"month\"= '{(date.today()-timedelta(days=1)).strftime('%Y-%m')}-01'"
    insert_query8 = f''' copy repeat_acutechronic from 's3://redshift-mkart-s3/powerbi/reporting/sales/{year1}/{month1}/repeat_ac'
    credentials 'aws_iam_role=arn:aws:iam::583075802774:role/service-role/AmazonRedshift-CommandsAccessRole-20220525T165306'
    IGNOREHEADER 1 
    csv;
    '''
    cursor.execute(query8)
    cursor.execute(insert_query8)
    conn.commit()

except Exception as e:
    logging.error("Oops! An exception has occured:" +  str(e))


try:
    query9  = f"delete  from repeat_acutechronic where \"month\"= '{(date.today()-timedelta(days=1)).strftime('%Y-%m')}-01'"
    insert_query9 = f''' copy repeat_acutechronic from 's3://redshift-mkart-s3/powerbi/reporting/sales/{year1}/{month1}/stockreport'
    credentials 'aws_iam_role=arn:aws:iam::583075802774:role/service-role/AmazonRedshift-CommandsAccessRole-20220525T165306'
    IGNOREHEADER 1 
    csv;
    '''
    cursor.execute(query9)
    cursor.execute(insert_query9)
    conn.commit()

    cursor.close()
    conn.close()
except:
  continue
    
print("Execution Done....!!!!!!!!!!!!!!!!!!!!!!")


